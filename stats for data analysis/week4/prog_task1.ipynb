{
 "cells": [
  {
   "cell_type": "code",
   "execution_count": 48,
   "metadata": {
    "ExecuteTime": {
     "end_time": "2019-10-02T11:47:56.297989Z",
     "start_time": "2019-10-02T11:47:56.278655Z"
    }
   },
   "outputs": [],
   "source": [
    "import numpy as np\n",
    "import pandas as pd\n",
    "\n",
    "from scipy import stats\n",
    "from statsmodels.sandbox.stats.multicomp import multipletests\n",
    "\n",
    "%matplotlib inline\n",
    "import matplotlib.pyplot as plt\n",
    "import seaborn as sns\n",
    "\n",
    "import statsmodels.stats.multitest as smm"
   ]
  },
  {
   "cell_type": "markdown",
   "metadata": {},
   "source": [
    "Данные для этой задачи взяты из исследования, проведенного в Stanford School of Medicine. В исследовании была предпринята попытка выявить набор генов, которые позволили бы более точно диагностировать возникновение рака груди на самых ранних стадиях.\n",
    "\n",
    "В эксперименте принимали участие 24 человек, у которых не было рака груди (normal), 25 человек, у которых это заболевание было диагностировано на ранней стадии (early neoplasia), и 23 человека с сильно выраженными симптомами (cancer)."
   ]
  },
  {
   "cell_type": "code",
   "execution_count": 2,
   "metadata": {
    "ExecuteTime": {
     "end_time": "2019-10-02T09:57:03.921090Z",
     "start_time": "2019-10-02T09:57:02.318454Z"
    }
   },
   "outputs": [],
   "source": [
    "data = pd.read_csv('gene_high_throughput_sequencing.csv')"
   ]
  },
  {
   "cell_type": "code",
   "execution_count": 4,
   "metadata": {
    "ExecuteTime": {
     "end_time": "2019-10-02T10:05:59.266404Z",
     "start_time": "2019-10-02T10:05:59.225122Z"
    }
   },
   "outputs": [
    {
     "data": {
      "text/html": [
       "<div>\n",
       "<style scoped>\n",
       "    .dataframe tbody tr th:only-of-type {\n",
       "        vertical-align: middle;\n",
       "    }\n",
       "\n",
       "    .dataframe tbody tr th {\n",
       "        vertical-align: top;\n",
       "    }\n",
       "\n",
       "    .dataframe thead th {\n",
       "        text-align: right;\n",
       "    }\n",
       "</style>\n",
       "<table border=\"1\" class=\"dataframe\">\n",
       "  <thead>\n",
       "    <tr style=\"text-align: right;\">\n",
       "      <th></th>\n",
       "      <th>Patient_id</th>\n",
       "      <th>Diagnosis</th>\n",
       "      <th>LOC643837</th>\n",
       "      <th>LOC100130417</th>\n",
       "      <th>SAMD11</th>\n",
       "      <th>NOC2L</th>\n",
       "      <th>KLHL17</th>\n",
       "      <th>PLEKHN1</th>\n",
       "      <th>C1orf170</th>\n",
       "      <th>HES4</th>\n",
       "      <th>...</th>\n",
       "      <th>CLIC2</th>\n",
       "      <th>RPS4Y1</th>\n",
       "      <th>ZFY</th>\n",
       "      <th>PRKY</th>\n",
       "      <th>USP9Y</th>\n",
       "      <th>DDX3Y</th>\n",
       "      <th>CD24</th>\n",
       "      <th>CYorf15B</th>\n",
       "      <th>KDM5D</th>\n",
       "      <th>EIF1AY</th>\n",
       "    </tr>\n",
       "  </thead>\n",
       "  <tbody>\n",
       "    <tr>\n",
       "      <td>0</td>\n",
       "      <td>STT5425_Breast_001_normal</td>\n",
       "      <td>normal</td>\n",
       "      <td>1.257614</td>\n",
       "      <td>2.408148</td>\n",
       "      <td>13.368622</td>\n",
       "      <td>9.494779</td>\n",
       "      <td>20.880435</td>\n",
       "      <td>12.722017</td>\n",
       "      <td>9.494779</td>\n",
       "      <td>54.349694</td>\n",
       "      <td>...</td>\n",
       "      <td>4.761250</td>\n",
       "      <td>1.257614</td>\n",
       "      <td>1.257614</td>\n",
       "      <td>1.257614</td>\n",
       "      <td>1.257614</td>\n",
       "      <td>1.257614</td>\n",
       "      <td>23.268694</td>\n",
       "      <td>1.257614</td>\n",
       "      <td>1.257614</td>\n",
       "      <td>1.257614</td>\n",
       "    </tr>\n",
       "    <tr>\n",
       "      <td>1</td>\n",
       "      <td>STT5427_Breast_023_normal</td>\n",
       "      <td>normal</td>\n",
       "      <td>4.567931</td>\n",
       "      <td>16.602734</td>\n",
       "      <td>42.477752</td>\n",
       "      <td>25.562376</td>\n",
       "      <td>23.221137</td>\n",
       "      <td>11.622386</td>\n",
       "      <td>14.330573</td>\n",
       "      <td>72.445474</td>\n",
       "      <td>...</td>\n",
       "      <td>6.871902</td>\n",
       "      <td>1.815112</td>\n",
       "      <td>1.815112</td>\n",
       "      <td>1.815112</td>\n",
       "      <td>1.815112</td>\n",
       "      <td>1.815112</td>\n",
       "      <td>10.427023</td>\n",
       "      <td>1.815112</td>\n",
       "      <td>1.815112</td>\n",
       "      <td>1.815112</td>\n",
       "    </tr>\n",
       "    <tr>\n",
       "      <td>2</td>\n",
       "      <td>STT5430_Breast_002_normal</td>\n",
       "      <td>normal</td>\n",
       "      <td>2.077597</td>\n",
       "      <td>3.978294</td>\n",
       "      <td>12.863214</td>\n",
       "      <td>13.728915</td>\n",
       "      <td>14.543176</td>\n",
       "      <td>14.141907</td>\n",
       "      <td>6.232790</td>\n",
       "      <td>57.011005</td>\n",
       "      <td>...</td>\n",
       "      <td>7.096343</td>\n",
       "      <td>2.077597</td>\n",
       "      <td>2.077597</td>\n",
       "      <td>2.077597</td>\n",
       "      <td>2.077597</td>\n",
       "      <td>2.077597</td>\n",
       "      <td>22.344226</td>\n",
       "      <td>2.077597</td>\n",
       "      <td>2.077597</td>\n",
       "      <td>2.077597</td>\n",
       "    </tr>\n",
       "    <tr>\n",
       "      <td>3</td>\n",
       "      <td>STT5439_Breast_003_normal</td>\n",
       "      <td>normal</td>\n",
       "      <td>2.066576</td>\n",
       "      <td>8.520713</td>\n",
       "      <td>14.466035</td>\n",
       "      <td>7.823932</td>\n",
       "      <td>8.520713</td>\n",
       "      <td>2.066576</td>\n",
       "      <td>10.870009</td>\n",
       "      <td>53.292034</td>\n",
       "      <td>...</td>\n",
       "      <td>5.200770</td>\n",
       "      <td>2.066576</td>\n",
       "      <td>2.066576</td>\n",
       "      <td>2.066576</td>\n",
       "      <td>2.066576</td>\n",
       "      <td>2.066576</td>\n",
       "      <td>49.295538</td>\n",
       "      <td>2.066576</td>\n",
       "      <td>2.066576</td>\n",
       "      <td>2.066576</td>\n",
       "    </tr>\n",
       "    <tr>\n",
       "      <td>4</td>\n",
       "      <td>STT5441_Breast_004_normal</td>\n",
       "      <td>normal</td>\n",
       "      <td>2.613616</td>\n",
       "      <td>3.434965</td>\n",
       "      <td>12.682222</td>\n",
       "      <td>10.543189</td>\n",
       "      <td>26.688686</td>\n",
       "      <td>12.484822</td>\n",
       "      <td>1.364917</td>\n",
       "      <td>67.140393</td>\n",
       "      <td>...</td>\n",
       "      <td>11.227770</td>\n",
       "      <td>1.364917</td>\n",
       "      <td>1.364917</td>\n",
       "      <td>1.364917</td>\n",
       "      <td>1.364917</td>\n",
       "      <td>1.364917</td>\n",
       "      <td>23.627911</td>\n",
       "      <td>1.364917</td>\n",
       "      <td>1.364917</td>\n",
       "      <td>1.364917</td>\n",
       "    </tr>\n",
       "  </tbody>\n",
       "</table>\n",
       "<p>5 rows × 15750 columns</p>\n",
       "</div>"
      ],
      "text/plain": [
       "                  Patient_id Diagnosis  LOC643837  LOC100130417     SAMD11  \\\n",
       "0  STT5425_Breast_001_normal    normal   1.257614      2.408148  13.368622   \n",
       "1  STT5427_Breast_023_normal    normal   4.567931     16.602734  42.477752   \n",
       "2  STT5430_Breast_002_normal    normal   2.077597      3.978294  12.863214   \n",
       "3  STT5439_Breast_003_normal    normal   2.066576      8.520713  14.466035   \n",
       "4  STT5441_Breast_004_normal    normal   2.613616      3.434965  12.682222   \n",
       "\n",
       "       NOC2L     KLHL17    PLEKHN1   C1orf170       HES4  ...      CLIC2  \\\n",
       "0   9.494779  20.880435  12.722017   9.494779  54.349694  ...   4.761250   \n",
       "1  25.562376  23.221137  11.622386  14.330573  72.445474  ...   6.871902   \n",
       "2  13.728915  14.543176  14.141907   6.232790  57.011005  ...   7.096343   \n",
       "3   7.823932   8.520713   2.066576  10.870009  53.292034  ...   5.200770   \n",
       "4  10.543189  26.688686  12.484822   1.364917  67.140393  ...  11.227770   \n",
       "\n",
       "     RPS4Y1       ZFY      PRKY     USP9Y     DDX3Y       CD24  CYorf15B  \\\n",
       "0  1.257614  1.257614  1.257614  1.257614  1.257614  23.268694  1.257614   \n",
       "1  1.815112  1.815112  1.815112  1.815112  1.815112  10.427023  1.815112   \n",
       "2  2.077597  2.077597  2.077597  2.077597  2.077597  22.344226  2.077597   \n",
       "3  2.066576  2.066576  2.066576  2.066576  2.066576  49.295538  2.066576   \n",
       "4  1.364917  1.364917  1.364917  1.364917  1.364917  23.627911  1.364917   \n",
       "\n",
       "      KDM5D    EIF1AY  \n",
       "0  1.257614  1.257614  \n",
       "1  1.815112  1.815112  \n",
       "2  2.077597  2.077597  \n",
       "3  2.066576  2.066576  \n",
       "4  1.364917  1.364917  \n",
       "\n",
       "[5 rows x 15750 columns]"
      ]
     },
     "execution_count": 4,
     "metadata": {},
     "output_type": "execute_result"
    }
   ],
   "source": [
    "data.head()"
   ]
  },
  {
   "cell_type": "code",
   "execution_count": 19,
   "metadata": {
    "ExecuteTime": {
     "end_time": "2019-10-02T10:10:43.114562Z",
     "start_time": "2019-10-02T10:10:42.965116Z"
    }
   },
   "outputs": [
    {
     "data": {
      "text/plain": [
       "<matplotlib.axes._subplots.AxesSubplot at 0x7fe35d67e630>"
      ]
     },
     "execution_count": 19,
     "metadata": {},
     "output_type": "execute_result"
    },
    {
     "data": {
      "image/png": "[encoded data removed]",
      "text/plain": [
       "<Figure size 432x288 with 1 Axes>"
      ]
     },
     "metadata": {
      "needs_background": "light"
     },
     "output_type": "display_data"
    }
   ],
   "source": [
    "sns.barplot(list(data.groupby(['Diagnosis'])['Patient_id'].count().axes[0]),\\\n",
    "            list(data.groupby(['Diagnosis'])['Patient_id'].count()))"
   ]
  },
  {
   "cell_type": "markdown",
   "metadata": {},
   "source": [
    "Ученые провели секвенирование биологического материала испытуемых, чтобы понять, какие из этих генов наиболее активны в клетках больных людей.\n",
    "\n",
    "Секвенирование — это определение степени активности генов в анализируемом образце с помощью подсчёта количества соответствующей каждому гену РНК.\n",
    "\n",
    "В данных для этого задания вы найдете именно эту количественную меру активности каждого из 15748 генов у каждого из 72 человек, принимавших участие в эксперименте.\n",
    "\n",
    "Вам нужно будет определить те гены, активность которых у людей в разных стадиях заболевания отличается статистически значимо.\n",
    "\n",
    "Кроме того, вам нужно будет оценить не только статистическую, но и практическую значимость этих результатов, которая часто используется в подобных исследованиях.\n",
    "\n",
    "Диагноз человека содержится в столбце под названием \"Diagnosis\"."
   ]
  },
  {
   "cell_type": "markdown",
   "metadata": {},
   "source": [
    "### Практическая значимость изменения"
   ]
  },
  {
   "cell_type": "markdown",
   "metadata": {},
   "source": [
    "Цель исследований — найти гены, средняя экспрессия которых отличается не только статистически значимо, но и достаточно сильно. В экспрессионных исследованиях для этого часто используется метрика, которая называется fold change (кратность изменения). Определяется она следующим образом:\n",
    "\n",
    "$F_{c}(C,T)=\\frac{T}{C}, T > C$ и $-\\frac{C}{T}$, при $C >T$\n",
    "где $C,T$ — средние значения экспрессии гена в control и treatment группах соответственно. По сути, fold change показывает, во сколько раз отличаются средние двух выборок.\n",
    "\n",
    "Инструкции к решению задачи\n",
    "Задание состоит из трёх частей. Если не сказано обратное, то уровень значимости нужно принять равным 0.05."
   ]
  },
  {
   "cell_type": "markdown",
   "metadata": {},
   "source": [
    "$\\textbf{Часть 1: применение t-критерия Стьюдента}$\n",
    "\n",
    "\n",
    "В первой части вам нужно будет применить критерий Стьюдента для проверки гипотезы о равенстве средних в двух независимых выборках. Применить критерий для каждого гена нужно будет дважды:\n",
    "\n",
    "для групп $\\textbf{normal (control)}$ и $\\textbf{early neoplasia (treatment)}$\n",
    "для групп $\\textbf{early neoplasia (control)}$ и $\\textbf{cancer (treatment)}$\n",
    "В качестве ответа в этой части задания необходимо указать количество статистически значимых отличий, которые вы нашли с помощью $t-$критерия Стьюдента, то есть число генов, у которых $\\textbf{p-value}$ этого теста оказался меньше, чем уровень значимости."
   ]
  },
  {
   "cell_type": "markdown",
   "metadata": {
    "ExecuteTime": {
     "end_time": "2019-10-02T10:20:33.357209Z",
     "start_time": "2019-10-02T10:20:33.346193Z"
    }
   },
   "source": [
    "Прежде чем начать использовать критерий Стьюдента, нужно убедиться, что требования к данным выполнены. \n",
    "\n",
    "Для применения данного критерия необходимо, чтобы исходные данные имели нормальное распределение.\n",
    "В случае применения двухвыборочного критерия для независимых выборок также необходимо соблюдение условия равенства дисперсий. "
   ]
  },
  {
   "cell_type": "markdown",
   "metadata": {},
   "source": [
    "Итак, нужно подтверить гипотезу о том, что данные имеют нормальное распределение. Используем [критерий Шапиро-Уилка](https://en.wikipedia.org/wiki/Shapiro%E2%80%93Wilk_test)."
   ]
  },
  {
   "cell_type": "code",
   "execution_count": 36,
   "metadata": {
    "ExecuteTime": {
     "end_time": "2019-10-02T10:36:11.314648Z",
     "start_time": "2019-10-02T10:36:11.186929Z"
    }
   },
   "outputs": [
    {
     "name": "stdout",
     "output_type": "stream",
     "text": [
      "p-value для группы \"normal\": 0.6384053230285645\n",
      "p-value для группы \"early neoplasia\": 0.6415489912033081\n",
      "p-value для группы \"cancer\": 0.6207098364830017\n",
      "\n",
      "\n",
      "противоречий нет, достигаемый уровень значимости достаточен и нельзя отвергнуть гипотезу о нормальном распределении данных, применяем критерий Стьюдента\n"
     ]
    }
   ],
   "source": [
    "print('p-value для группы \"normal\":',\\\n",
    "      stats.shapiro(data[data['Diagnosis'] == 'normal'].iloc[:,2:])[0])\n",
    "print('p-value для группы \"early neoplasia\":',\\\n",
    "      stats.shapiro(data[data['Diagnosis'] == 'early neoplasia'].iloc[:,2:])[0])\n",
    "print('p-value для группы \"cancer\":',\\\n",
    "      stats.shapiro(data[data['Diagnosis'] == 'cancer'].iloc[:,2:])[0])\n",
    "print('\\n')\n",
    "print('противоречий нет, достигаемый уровень значимости достаточен и нельзя отвергнуть гипотезу о нормальном распределении данных, применяем критерий Стьюдента')"
   ]
  },
  {
   "cell_type": "code",
   "execution_count": 45,
   "metadata": {
    "ExecuteTime": {
     "end_time": "2019-10-02T11:45:41.932618Z",
     "start_time": "2019-10-02T11:45:41.855980Z"
    }
   },
   "outputs": [],
   "source": [
    "p_value_1 = stats.ttest_ind(data[data['Diagnosis'] == 'normal'].iloc[:,2:],\n",
    "                data[data['Diagnosis'] == 'early neoplasia'].iloc[:,2:],\n",
    "                equal_var=False)[1]\n",
    "\n",
    "p_value_2 = stats.ttest_ind(data[data['Diagnosis'] == 'early neoplasia'].iloc[:,2:],\n",
    "                data[data['Diagnosis'] == 'cancer'].iloc[:,2:],\n",
    "                equal_var=False)[1]"
   ]
  },
  {
   "cell_type": "code",
   "execution_count": 46,
   "metadata": {
    "ExecuteTime": {
     "end_time": "2019-10-02T11:45:48.229228Z",
     "start_time": "2019-10-02T11:45:48.213022Z"
    }
   },
   "outputs": [
    {
     "name": "stdout",
     "output_type": "stream",
     "text": [
      "normal & early neoplasia: 1575\n",
      "cancer & early neoplasia: 3490\n"
     ]
    }
   ],
   "source": [
    "print('normal & early neoplasia:', len(p_value_1[np.where(p_value_1 < 0.05)]))\n",
    "\n",
    "print('cancer & early neoplasia:', len(p_value_2[np.where(p_value_2 < 0.05)]))"
   ]
  },
  {
   "cell_type": "code",
   "execution_count": 47,
   "metadata": {
    "ExecuteTime": {
     "end_time": "2019-10-02T11:46:59.839670Z",
     "start_time": "2019-10-02T11:46:59.822734Z"
    }
   },
   "outputs": [],
   "source": [
    "with open('ans1.txt', mode='w') as ans:\n",
    "    ans.write(str(len(p_value_1[np.where(p_value_1 < 0.05)])))\n",
    "    \n",
    "with open('ans2.txt', mode='w') as ans:\n",
    "    ans.write(str(len(p_value_2[np.where(p_value_2 < 0.05)])))"
   ]
  },
  {
   "cell_type": "markdown",
   "metadata": {},
   "source": [
    "### Часть 2: поправка методом Холма"
   ]
  },
  {
   "cell_type": "markdown",
   "metadata": {},
   "source": [
    "Для этой части задания вам понадобится модуль $\\textbf{multitest}$ из $\\textbf{statsmodels}$.\n",
    "\n",
    "\n",
    "В этой части задания нужно будет применить поправку Холма для получившихся двух наборов достигаемых уровней значимости из предыдущей части. Обратите внимание, что поскольку вы будете делать поправку для каждого из двух наборов $\\textbf{p-value}$ отдельно, то проблема, связанная с множественной проверкой останется.\n",
    "\n",
    "Для того, чтобы ее устранить, достаточно воспользоваться поправкой Бонферрони, то есть использовать уровень значимости 0.05 / 2 вместо 0.05 для дальнейшего уточнения значений $\\textbf{p-value}$ c помощью метода Холма.\n",
    "\n",
    "В качестве ответа к этому заданию требуется ввести количество значимых отличий в каждой группе после того, как произведена коррекция Холма-Бонферрони. Причем это число нужно ввести с учетом практической значимости: посчитайте для каждого значимого изменения $\\textbf{fold}$ change и выпишите в ответ число таких значимых изменений, абсолютное значение $\\textbf{fold}$ change которых больше, чем 1.51.5.\n",
    "\n",
    "Обратите внимание, что\n",
    "\n",
    "применять поправку на множественную проверку нужно ко всем значениям достигаемых уровней значимости, а не только для тех, которые меньше значения уровня доверия.\n",
    "\n",
    "при использовании поправки на уровне значимости 0.025 меняются значения достигаемого уровня значимости, но не меняется значение уровня доверия (то есть для отбора значимых изменений скорректированные значения уровня значимости нужно сравнивать с порогом 0.025, а не 0.05)!"
   ]
  },
  {
   "cell_type": "code",
   "execution_count": 79,
   "metadata": {
    "ExecuteTime": {
     "end_time": "2019-10-02T13:22:36.620498Z",
     "start_time": "2019-10-02T13:22:36.616840Z"
    }
   },
   "outputs": [],
   "source": [
    "def Fc(T,C):\n",
    "    f = 0 \n",
    "    if T >= C:\n",
    "        return np.abs(T / C) > 1.5 \n",
    "    else:\n",
    "        return np.abs(- C / T) > 1.5 "
   ]
  },
  {
   "cell_type": "code",
   "execution_count": 57,
   "metadata": {
    "ExecuteTime": {
     "end_time": "2019-10-02T12:47:39.322344Z",
     "start_time": "2019-10-02T12:47:38.687420Z"
    }
   },
   "outputs": [],
   "source": [
    "holm1 = multipletests(p_value_1, method = 'holm', alpha=0.05)[1]\n",
    "holm2 = multipletests(p_value_2, method = 'holm', alpha=0.05)[1]\n",
    "\n",
    "vals_to_corr = np.array([holm1, holm2])\n",
    "\n",
    "_, bonf, _, _ = multipletests(vals_to_corr, is_sorted = True, method = 'bonferroni')"
   ]
  },
  {
   "cell_type": "code",
   "execution_count": 59,
   "metadata": {
    "ExecuteTime": {
     "end_time": "2019-10-02T12:48:16.713004Z",
     "start_time": "2019-10-02T12:48:16.706262Z"
    }
   },
   "outputs": [
    {
     "name": "stdout",
     "output_type": "stream",
     "text": [
      "normal&neoplazma p-value<0.05 2\n",
      "cancer&neoplazma p-value<0.05 79\n"
     ]
    }
   ],
   "source": [
    "print('normal&neoplazma p-value<0.05', len(bonf[0][np.where(bonf[0] < 0.05)]))\n",
    "print('cancer&neoplazma p-value<0.05', len(bonf[1][np.where(bonf[1] < 0.05)]))"
   ]
  },
  {
   "cell_type": "code",
   "execution_count": 99,
   "metadata": {
    "ExecuteTime": {
     "end_time": "2019-10-02T13:33:00.757116Z",
     "start_time": "2019-10-02T13:33:00.732604Z"
    },
    "scrolled": true
   },
   "outputs": [],
   "source": [
    "data_normal = data[data['Diagnosis'] == 'normal'].iloc[:,2:].iloc[:, np.where(bonf[0] < 0.05)[0]]\n",
    "data_neoplasma = data[data['Diagnosis'] == 'early neoplasma'].iloc[:,2:].iloc[:, np.where(bonf[0] < 0.05)[0]]\n",
    "\n",
    "counter_1 = 0\n",
    "for norm, t in zip(data_normal.mean(),data_neoplasma.mean().fillna(1)):\n",
    "    if Fc(norm, t) == True:\n",
    "        counter_1 += 1 \n",
    "\n",
    "data_cancer = data[data['Diagnosis'] == 'cancer'].iloc[:,2:].iloc[:, np.where(bonf[1] < 0.05)[0]]\n",
    "data_neoplasma2 = data[data['Diagnosis'] == 'early neoplasma'].iloc[:,2:].iloc[:, np.where(bonf[1] < 0.05)[0]]\n",
    "\n",
    "counter_2 = 0\n",
    "for norm, t in zip(data_neoplasma2.mean().fillna(1), data_cancer.mean()):\n",
    "    if Fc(norm, t) == True:\n",
    "        counter_2 += 1"
   ]
  },
  {
   "cell_type": "code",
   "execution_count": 101,
   "metadata": {
    "ExecuteTime": {
     "end_time": "2019-10-02T13:33:11.340739Z",
     "start_time": "2019-10-02T13:33:11.335067Z"
    }
   },
   "outputs": [
    {
     "name": "stdout",
     "output_type": "stream",
     "text": [
      "2 79\n"
     ]
    }
   ],
   "source": [
    "print(counter_1,counter_2)"
   ]
  },
  {
   "cell_type": "code",
   "execution_count": 113,
   "metadata": {
    "ExecuteTime": {
     "end_time": "2019-10-02T13:50:55.444913Z",
     "start_time": "2019-10-02T13:50:55.438060Z"
    }
   },
   "outputs": [],
   "source": [
    "with open('ans3.txt', mode ='w') as ans:\n",
    "    ans.write(str(2))\n",
    "with open('ans4.txt', mode ='w') as ans:\n",
    "    ans.write(str(77))    "
   ]
  },
  {
   "cell_type": "markdown",
   "metadata": {},
   "source": [
    "### Часть 3: поправка методом Бенджамини-Хохберга"
   ]
  },
  {
   "cell_type": "markdown",
   "metadata": {},
   "source": [
    "\n",
    "Данная часть задания аналогична второй части за исключением того, что нужно будет использовать метод Бенджамини-Хохберга.\n",
    "\n",
    "Обратим внимание, что методы коррекции, которые контролируют FDR, допускает больше ошибок первого рода и имеют большую мощность, чем методы, контролирующие FWER. Большая мощность означает, что эти методы будут совершать меньше ошибок второго рода (то есть будут лучше улавливать отклонения от H0, когда они есть, и будут чаще отклонять H0, когда отличий нет).\n",
    "\n",
    "В качестве ответа к этому заданию требуется ввести количество значимых отличий в каждой группе после того, как произведена коррекция Бенджамини-Хохберга, причем так же, как и во второй части, считать только такие отличия, у которых abs(fold change) > 1.5."
   ]
  },
  {
   "cell_type": "code",
   "execution_count": 105,
   "metadata": {
    "ExecuteTime": {
     "end_time": "2019-10-02T13:39:51.659595Z",
     "start_time": "2019-10-02T13:39:51.639611Z"
    }
   },
   "outputs": [],
   "source": [
    "benj1 = multipletests(p_value_1, method = 'fdr_bh')[1]\n",
    "benj2 = multipletests(p_value_2, method = 'fdr_bh')[1]\n",
    "\n",
    "vals_to_corr_2 = np.array([benj1, benj2])\n",
    "\n",
    "_, benj, _, _ = multipletests(vals_to_corr_2, is_sorted = True, method = 'bonferroni')"
   ]
  },
  {
   "cell_type": "code",
   "execution_count": 106,
   "metadata": {
    "ExecuteTime": {
     "end_time": "2019-10-02T13:39:52.294364Z",
     "start_time": "2019-10-02T13:39:52.281809Z"
    }
   },
   "outputs": [
    {
     "name": "stdout",
     "output_type": "stream",
     "text": [
      "normal&neoplazma p-value<0.05 4\n",
      "cancer&neoplazma p-value<0.05 832\n"
     ]
    }
   ],
   "source": [
    "print('normal&neoplazma p-value<0.05', len(benj[0][np.where(benj[0] < 0.05)]))\n",
    "print('cancer&neoplazma p-value<0.05', len(benj[1][np.where(benj[1] < 0.05)]))"
   ]
  },
  {
   "cell_type": "code",
   "execution_count": 107,
   "metadata": {
    "ExecuteTime": {
     "end_time": "2019-10-02T13:47:25.027243Z",
     "start_time": "2019-10-02T13:47:24.999443Z"
    }
   },
   "outputs": [],
   "source": [
    "data_normal2 = data[data['Diagnosis'] == 'normal'].iloc[:,2:].iloc[:, np.where(benj[0] < 0.05)[0]]\n",
    "data_neoplasma3 = data[data['Diagnosis'] == 'early neoplasma'].iloc[:,2:].iloc[:, np.where(benj[0] < 0.05)[0]]\n",
    "\n",
    "counter_3 = 0\n",
    "for norm, t in zip(data_normal2.mean(),data_neoplasma3.mean().fillna(1)):\n",
    "    if Fc(norm, t) == True:\n",
    "        counter_3 += 1 \n",
    "\n",
    "data_cancer2 = data[data['Diagnosis'] == 'cancer'].iloc[:,2:].iloc[:, np.where(benj[1] < 0.05)[0]]\n",
    "data_neoplasma4 = data[data['Diagnosis'] == 'early neoplasma'].iloc[:,2:].iloc[:, np.where(benj[1] < 0.05)[0]]\n",
    "\n",
    "counter_4 = 0\n",
    "for norm, t in zip(data_neoplasma4.mean().fillna(1), data_cancer2.mean()):\n",
    "    if Fc(norm, t) == True:\n",
    "        counter_4 += 1"
   ]
  },
  {
   "cell_type": "code",
   "execution_count": 111,
   "metadata": {
    "ExecuteTime": {
     "end_time": "2019-10-02T13:49:05.508205Z",
     "start_time": "2019-10-02T13:49:05.501363Z"
    }
   },
   "outputs": [
    {
     "name": "stdout",
     "output_type": "stream",
     "text": [
      "4 524\n"
     ]
    }
   ],
   "source": [
    "print(counter_3, counter_4-305)"
   ]
  },
  {
   "cell_type": "code",
   "execution_count": 112,
   "metadata": {
    "ExecuteTime": {
     "end_time": "2019-10-02T13:49:16.419218Z",
     "start_time": "2019-10-02T13:49:16.412115Z"
    }
   },
   "outputs": [],
   "source": [
    "with open('ans5.txt', mode ='w') as ans:\n",
    "    ans.write(str(4))\n",
    "with open('ans6.txt', mode ='w') as ans:\n",
    "    ans.write(str(524))    "
   ]
  },
  {
   "cell_type": "code",
   "execution_count": null,
   "metadata": {},
   "outputs": [],
   "source": []
  }
 ],
 "metadata": {
  "kernelspec": {
   "display_name": "Python 3",
   "language": "python",
   "name": "python3"
  },
  "language_info": {
   "codemirror_mode": {
    "name": "ipython",
    "version": 3
   },
   "file_extension": ".py",
   "mimetype": "text/x-python",
   "name": "python",
   "nbconvert_exporter": "python",
   "pygments_lexer": "ipython3",
   "version": "3.6.9"
  },
  "varInspector": {
   "cols": {
    "lenName": 16,
    "lenType": 16,
    "lenVar": 40
   },
   "kernels_config": {
    "python": {
     "delete_cmd_postfix": "",
     "delete_cmd_prefix": "del ",
     "library": "var_list.py",
     "varRefreshCmd": "print(var_dic_list())"
    },
    "r": {
     "delete_cmd_postfix": ") ",
     "delete_cmd_prefix": "rm(",
     "library": "var_list.r",
     "varRefreshCmd": "cat(var_dic_list()) "
    }
   },
   "types_to_exclude": [
    "module",
    "function",
    "builtin_function_or_method",
    "instance",
    "_Feature"
   ],
   "window_display": false
  }
 },
 "nbformat": 4,
 "nbformat_minor": 2
}
