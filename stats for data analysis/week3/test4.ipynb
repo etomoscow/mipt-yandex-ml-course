{
 "cells": [
  {
   "cell_type": "code",
   "execution_count": 139,
   "metadata": {
    "ExecuteTime": {
     "end_time": "2019-09-30T20:50:14.488083Z",
     "start_time": "2019-09-30T20:50:14.480074Z"
    }
   },
   "outputs": [],
   "source": [
    "import pandas as pd\n",
    "import numpy as np \n",
    "from scipy import stats\n",
    "\n",
    "import statsmodels.stats.api as api\n",
    "import statsmodels.formula.api as smf"
   ]
  },
  {
   "cell_type": "markdown",
   "metadata": {
    "ExecuteTime": {
     "end_time": "2019-09-30T18:46:15.150398Z",
     "start_time": "2019-09-30T18:46:15.141164Z"
    }
   },
   "source": [
    "Давайте проанализируем данные опроса 4361 женщин из Ботсваны:\n",
    "\n",
    "\n",
    "О каждой из них мы знаем:\n",
    "\n",
    "сколько детей она родила (признак ceb)\n",
    "\n",
    "возраст (age)\n",
    "\n",
    "длительность получения образования (educ)\n",
    "\n",
    "религиозная принадлежность (religion)\n",
    "\n",
    "идеальное, по её мнению, количество детей в семье (idlnchld)\n",
    "\n",
    "была ли она когда-нибудь замужем (evermarr)\n",
    "\n",
    "возраст первого замужества (agefm)\n",
    "\n",
    "длительность получения образования мужем (heduc)\n",
    "\n",
    "знает ли она о методах контрацепции (knowmeth)\n",
    "\n",
    "использует ли она методы контрацепции (usemeth)\n",
    "\n",
    "живёт ли она в городе (urban)\n",
    "\n",
    "есть ли у неё электричество, радио, телевизор и велосипед (electric, radio, tv, bicycle)\n",
    "\n",
    "Давайте научимся оценивать количество детей ceb по остальным признакам.\n",
    "Загрузите данные и внимательно изучите их. Сколько разных значений принимает признак religion?"
   ]
  },
  {
   "cell_type": "code",
   "execution_count": 140,
   "metadata": {
    "ExecuteTime": {
     "end_time": "2019-09-30T20:50:14.938767Z",
     "start_time": "2019-09-30T20:50:14.917745Z"
    }
   },
   "outputs": [],
   "source": [
    "df = pd.read_csv('botswana.tsv', sep='\\t')"
   ]
  },
  {
   "cell_type": "code",
   "execution_count": 141,
   "metadata": {
    "ExecuteTime": {
     "end_time": "2019-09-30T20:50:15.143661Z",
     "start_time": "2019-09-30T20:50:15.115996Z"
    }
   },
   "outputs": [
    {
     "data": {
      "text/html": [
       "<div>\n",
       "<style scoped>\n",
       "    .dataframe tbody tr th:only-of-type {\n",
       "        vertical-align: middle;\n",
       "    }\n",
       "\n",
       "    .dataframe tbody tr th {\n",
       "        vertical-align: top;\n",
       "    }\n",
       "\n",
       "    .dataframe thead th {\n",
       "        text-align: right;\n",
       "    }\n",
       "</style>\n",
       "<table border=\"1\" class=\"dataframe\">\n",
       "  <thead>\n",
       "    <tr style=\"text-align: right;\">\n",
       "      <th></th>\n",
       "      <th>ceb</th>\n",
       "      <th>age</th>\n",
       "      <th>educ</th>\n",
       "      <th>religion</th>\n",
       "      <th>idlnchld</th>\n",
       "      <th>knowmeth</th>\n",
       "      <th>usemeth</th>\n",
       "      <th>evermarr</th>\n",
       "      <th>agefm</th>\n",
       "      <th>heduc</th>\n",
       "      <th>urban</th>\n",
       "      <th>electric</th>\n",
       "      <th>radio</th>\n",
       "      <th>tv</th>\n",
       "      <th>bicycle</th>\n",
       "    </tr>\n",
       "  </thead>\n",
       "  <tbody>\n",
       "    <tr>\n",
       "      <td>0</td>\n",
       "      <td>0</td>\n",
       "      <td>18</td>\n",
       "      <td>10</td>\n",
       "      <td>catholic</td>\n",
       "      <td>4.0</td>\n",
       "      <td>1.0</td>\n",
       "      <td>1.0</td>\n",
       "      <td>0</td>\n",
       "      <td>NaN</td>\n",
       "      <td>NaN</td>\n",
       "      <td>1</td>\n",
       "      <td>1.0</td>\n",
       "      <td>1.0</td>\n",
       "      <td>1.0</td>\n",
       "      <td>1.0</td>\n",
       "    </tr>\n",
       "    <tr>\n",
       "      <td>1</td>\n",
       "      <td>2</td>\n",
       "      <td>43</td>\n",
       "      <td>11</td>\n",
       "      <td>protestant</td>\n",
       "      <td>2.0</td>\n",
       "      <td>1.0</td>\n",
       "      <td>1.0</td>\n",
       "      <td>1</td>\n",
       "      <td>20.0</td>\n",
       "      <td>14.0</td>\n",
       "      <td>1</td>\n",
       "      <td>1.0</td>\n",
       "      <td>1.0</td>\n",
       "      <td>1.0</td>\n",
       "      <td>1.0</td>\n",
       "    </tr>\n",
       "    <tr>\n",
       "      <td>2</td>\n",
       "      <td>0</td>\n",
       "      <td>49</td>\n",
       "      <td>4</td>\n",
       "      <td>spirit</td>\n",
       "      <td>4.0</td>\n",
       "      <td>1.0</td>\n",
       "      <td>0.0</td>\n",
       "      <td>1</td>\n",
       "      <td>22.0</td>\n",
       "      <td>1.0</td>\n",
       "      <td>1</td>\n",
       "      <td>1.0</td>\n",
       "      <td>1.0</td>\n",
       "      <td>0.0</td>\n",
       "      <td>0.0</td>\n",
       "    </tr>\n",
       "    <tr>\n",
       "      <td>3</td>\n",
       "      <td>0</td>\n",
       "      <td>24</td>\n",
       "      <td>12</td>\n",
       "      <td>other</td>\n",
       "      <td>2.0</td>\n",
       "      <td>1.0</td>\n",
       "      <td>0.0</td>\n",
       "      <td>0</td>\n",
       "      <td>NaN</td>\n",
       "      <td>NaN</td>\n",
       "      <td>1</td>\n",
       "      <td>1.0</td>\n",
       "      <td>1.0</td>\n",
       "      <td>1.0</td>\n",
       "      <td>1.0</td>\n",
       "    </tr>\n",
       "    <tr>\n",
       "      <td>4</td>\n",
       "      <td>3</td>\n",
       "      <td>32</td>\n",
       "      <td>13</td>\n",
       "      <td>other</td>\n",
       "      <td>3.0</td>\n",
       "      <td>1.0</td>\n",
       "      <td>1.0</td>\n",
       "      <td>1</td>\n",
       "      <td>24.0</td>\n",
       "      <td>12.0</td>\n",
       "      <td>1</td>\n",
       "      <td>1.0</td>\n",
       "      <td>1.0</td>\n",
       "      <td>1.0</td>\n",
       "      <td>1.0</td>\n",
       "    </tr>\n",
       "  </tbody>\n",
       "</table>\n",
       "</div>"
      ],
      "text/plain": [
       "   ceb  age  educ    religion  idlnchld  knowmeth  usemeth  evermarr  agefm  \\\n",
       "0    0   18    10    catholic       4.0       1.0      1.0         0    NaN   \n",
       "1    2   43    11  protestant       2.0       1.0      1.0         1   20.0   \n",
       "2    0   49     4      spirit       4.0       1.0      0.0         1   22.0   \n",
       "3    0   24    12       other       2.0       1.0      0.0         0    NaN   \n",
       "4    3   32    13       other       3.0       1.0      1.0         1   24.0   \n",
       "\n",
       "   heduc  urban  electric  radio   tv  bicycle  \n",
       "0    NaN      1       1.0    1.0  1.0      1.0  \n",
       "1   14.0      1       1.0    1.0  1.0      1.0  \n",
       "2    1.0      1       1.0    1.0  0.0      0.0  \n",
       "3    NaN      1       1.0    1.0  1.0      1.0  \n",
       "4   12.0      1       1.0    1.0  1.0      1.0  "
      ]
     },
     "execution_count": 141,
     "metadata": {},
     "output_type": "execute_result"
    }
   ],
   "source": [
    "df.head()"
   ]
  },
  {
   "cell_type": "code",
   "execution_count": 142,
   "metadata": {
    "ExecuteTime": {
     "end_time": "2019-09-30T20:50:15.290063Z",
     "start_time": "2019-09-30T20:50:15.282219Z"
    }
   },
   "outputs": [
    {
     "data": {
      "text/plain": [
       "array(['catholic', 'protestant', 'spirit', 'other'], dtype=object)"
      ]
     },
     "execution_count": 142,
     "metadata": {},
     "output_type": "execute_result"
    }
   ],
   "source": [
    "df['religion'].unique()"
   ]
  },
  {
   "cell_type": "markdown",
   "metadata": {},
   "source": [
    "Во многих признаках есть пропущенные значения. Сколько объектов из 4361 останется, если выбросить все, содержащие пропуски?\n",
    "\n"
   ]
  },
  {
   "cell_type": "code",
   "execution_count": 143,
   "metadata": {
    "ExecuteTime": {
     "end_time": "2019-09-30T20:50:15.737594Z",
     "start_time": "2019-09-30T20:50:15.730581Z"
    }
   },
   "outputs": [
    {
     "data": {
      "text/plain": [
       "(1834, 15)"
      ]
     },
     "execution_count": 143,
     "metadata": {},
     "output_type": "execute_result"
    }
   ],
   "source": [
    "df.dropna().shape"
   ]
  },
  {
   "cell_type": "markdown",
   "metadata": {},
   "source": [
    "В разных признаках пропуски возникают по разным причинам и должны обрабатываться по-разному.\n",
    "\n",
    "Например, в признаке $agefm$ пропуски стоят только там, где $evermarr=0$, то есть, они соответствуют женщинам, никогда не выходившим замуж. Таким образом, для этого признака NaN соответствует значению \"не применимо\".\n",
    "\n",
    "В подобных случаях, когда признак $x_1$ на части объектов в принципе не может принимать никакие значения, рекомендуется поступать так:\n",
    "\n",
    "создать новый бинарный признак\n",
    "\n",
    "$x_2=1$,если $x_1=$'не применимо'; 0,иначе;\n",
    "\n",
    "\n",
    "заменить \"не применимо\" в $x_1$ на произвольную константу $c$, которая среди других значений $x_1$ не встречается.\n",
    "\n",
    "\n",
    "Теперь, когда мы построим регрессию на оба признака и получим модель вида\n",
    "\n",
    "$y=\\beta_0 + \\beta_1 x_1 + \\beta_2 x_2$\n",
    "\n",
    "на тех объектах, где $x_1$ было измерено, регрессионное уравнение примет вид\n",
    "\n",
    "$y=\\beta_0 + \\beta_1 x$,\n",
    "\n",
    "а там, где $x_1$ было \"не применимо\", получится\n",
    "\n",
    "$y=\\beta_0 + \\beta_1 c + \\beta_2$ \n",
    "\n",
    "Выбор $c$ влияет только на значение и интерпретацию $\\beta_2$ , но не $\\beta_1$ \n",
    "\n",
    "Давайте используем этот метод для обработки пропусков в agefm и heduc.\n",
    "\n",
    "1. Создайте признак nevermarr, равный единице там, где в agefm пропуски.\n",
    "\n",
    "2. Удалите признак evermarr — в сумме с nevermarr он даёт константу, значит, в нашей матрице $X$ будет мультиколлинеарность.\n",
    "3. Замените NaN в признаке agefm на $c_{agefm}=0$ \n",
    "\n",
    "4. У объектов, где nevermarr = 1, замените NaN в признаке heduc на $c_{heduc_1}=-1$ (ноль использовать нельзя, так как он уже встречается у некоторых объектов выборки).\n",
    "\n",
    "Сколько осталось пропущенных значений в признаке heduc?"
   ]
  },
  {
   "cell_type": "code",
   "execution_count": 144,
   "metadata": {
    "ExecuteTime": {
     "end_time": "2019-09-30T20:50:16.213135Z",
     "start_time": "2019-09-30T20:50:16.156686Z"
    }
   },
   "outputs": [],
   "source": [
    "#1\n",
    "df['nevermarr'] = [1 if df.loc[i,'evermarr'] == 0 else 0 for i in range(df.shape[0])]"
   ]
  },
  {
   "cell_type": "code",
   "execution_count": 145,
   "metadata": {
    "ExecuteTime": {
     "end_time": "2019-09-30T20:50:16.371761Z",
     "start_time": "2019-09-30T20:50:16.360873Z"
    }
   },
   "outputs": [],
   "source": [
    "#2\n",
    "df = df.drop(columns = ['evermarr'], axis=1)"
   ]
  },
  {
   "cell_type": "code",
   "execution_count": 146,
   "metadata": {
    "ExecuteTime": {
     "end_time": "2019-09-30T20:50:16.536920Z",
     "start_time": "2019-09-30T20:50:16.529702Z"
    }
   },
   "outputs": [],
   "source": [
    "#3\n",
    "df.at[list(df[df['agefm'].isna() == True].index),'agefm'] = 0"
   ]
  },
  {
   "cell_type": "code",
   "execution_count": 147,
   "metadata": {
    "ExecuteTime": {
     "end_time": "2019-09-30T20:50:16.722162Z",
     "start_time": "2019-09-30T20:50:16.714895Z"
    }
   },
   "outputs": [],
   "source": [
    "#4\n",
    "df.at[list(df[(df['nevermarr'] == 1)&(df['heduc'].isna() == True)].index), 'heduc'] = -1"
   ]
  },
  {
   "cell_type": "code",
   "execution_count": 148,
   "metadata": {
    "ExecuteTime": {
     "end_time": "2019-09-30T20:50:16.932068Z",
     "start_time": "2019-09-30T20:50:16.912724Z"
    }
   },
   "outputs": [
    {
     "data": {
      "text/plain": [
       "(123, 15)"
      ]
     },
     "execution_count": 148,
     "metadata": {},
     "output_type": "execute_result"
    }
   ],
   "source": [
    "df[df['heduc'].isna() == True].shape"
   ]
  },
  {
   "cell_type": "markdown",
   "metadata": {},
   "source": [
    "Избавимся от оставшихся пропусков.\n",
    "\n",
    "Для признаков idlnchld, heduc и usemeth проведите операцию, аналогичную предыдущей: создайте индикаторы пропусков по этим признакам (idlnchld_noans, heduc_noans, usemeth_noans), замените пропуски на нехарактерные значения ($c_{idlnchld}=-1, c_{heduc_2}=-2$ (значение $-1$ мы уже использовали), $c_{usemeth}=-1$).\n",
    "\n",
    "Остались только пропуски в признаках knowmeth, electric, radio, tv и bicycle. Их очень мало, так что удалите объекты, на которых их значения пропущены.\n",
    "\n",
    "Какого размера теперь наша матрица данных? Умножьте количество строк на количество всех столбцов (включая отклик ceb)."
   ]
  },
  {
   "cell_type": "code",
   "execution_count": 149,
   "metadata": {
    "ExecuteTime": {
     "end_time": "2019-09-30T20:50:17.325452Z",
     "start_time": "2019-09-30T20:50:17.297894Z"
    }
   },
   "outputs": [],
   "source": [
    "df['idlnchld_nans'] = 0\n",
    "df.at[list(df[df['idlnchld'].isna() == True].index), 'idlnchld_nans'] = 1\n",
    "\n",
    "df['heduc_nans'] = 0\n",
    "df.at[list(df[df['heduc'].isna() == True].index), 'heduc_nans'] = 1\n",
    "\n",
    "df['usemeth_nans'] = 0\n",
    "df.at[list(df[df['usemeth'].isna() == True].index), 'usemeth_nans'] = 1"
   ]
  },
  {
   "cell_type": "code",
   "execution_count": 150,
   "metadata": {
    "ExecuteTime": {
     "end_time": "2019-09-30T20:50:17.509612Z",
     "start_time": "2019-09-30T20:50:17.496278Z"
    }
   },
   "outputs": [],
   "source": [
    "df.at[list(df[df['idlnchld'].isnull() == True].index), 'idlnchld'] = -1\n",
    "df.at[list(df[df['heduc'].isnull() == True].index), 'heduc'] = -2\n",
    "df.at[list(df[df['usemeth'].isnull() == True].index),'usemeth'] = -1"
   ]
  },
  {
   "cell_type": "code",
   "execution_count": 151,
   "metadata": {
    "ExecuteTime": {
     "end_time": "2019-09-30T20:50:17.725015Z",
     "start_time": "2019-09-30T20:50:17.714760Z"
    }
   },
   "outputs": [],
   "source": [
    "df = df.dropna()"
   ]
  },
  {
   "cell_type": "code",
   "execution_count": 152,
   "metadata": {
    "ExecuteTime": {
     "end_time": "2019-09-30T20:50:17.909299Z",
     "start_time": "2019-09-30T20:50:17.905592Z"
    }
   },
   "outputs": [
    {
     "data": {
      "text/plain": [
       "78264"
      ]
     },
     "execution_count": 152,
     "metadata": {},
     "output_type": "execute_result"
    }
   ],
   "source": [
    "df.shape[0]*df.shape[1]"
   ]
  },
  {
   "cell_type": "markdown",
   "metadata": {},
   "source": [
    "Постройте регрессию количества детей ceb на все имеющиеся признаки методом smf.ols, как в разобранном до этого примере. Какой получился коэффициент детерминации $R^2$\n",
    " ? Округлите до трёх знаков после десятичной точки."
   ]
  },
  {
   "cell_type": "code",
   "execution_count": 153,
   "metadata": {
    "ExecuteTime": {
     "end_time": "2019-09-30T20:50:18.362435Z",
     "start_time": "2019-09-30T20:50:18.355896Z"
    }
   },
   "outputs": [],
   "source": [
    "formula = 'ceb ~'+'+'.join(df.columns[1:])"
   ]
  },
  {
   "cell_type": "code",
   "execution_count": 154,
   "metadata": {
    "ExecuteTime": {
     "end_time": "2019-09-30T20:50:19.230002Z",
     "start_time": "2019-09-30T20:50:19.119830Z"
    }
   },
   "outputs": [
    {
     "name": "stdout",
     "output_type": "stream",
     "text": [
      "                            OLS Regression Results                            \n",
      "==============================================================================\n",
      "Dep. Variable:                    ceb   R-squared:                       0.644\n",
      "Model:                            OLS   Adj. R-squared:                  0.643\n",
      "Method:                 Least Squares   F-statistic:                     412.5\n",
      "Date:                Mon, 30 Sep 2019   Prob (F-statistic):               0.00\n",
      "Time:                        23:50:19   Log-Likelihood:                -7732.1\n",
      "No. Observations:                4348   AIC:                         1.550e+04\n",
      "Df Residuals:                    4328   BIC:                         1.563e+04\n",
      "Df Model:                          19                                         \n",
      "Covariance Type:            nonrobust                                         \n",
      "==========================================================================================\n",
      "                             coef    std err          t      P>|t|      [0.025      0.975]\n",
      "------------------------------------------------------------------------------------------\n",
      "Intercept                 -1.0263      0.212     -4.835      0.000      -1.443      -0.610\n",
      "religion[T.other]         -0.0830      0.083     -1.001      0.317      -0.245       0.080\n",
      "religion[T.protestant]    -0.0149      0.082     -0.181      0.857      -0.176       0.146\n",
      "religion[T.spirit]        -0.0191      0.077     -0.248      0.804      -0.171       0.132\n",
      "age                        0.1703      0.003     51.891      0.000       0.164       0.177\n",
      "educ                      -0.0724      0.007     -9.843      0.000      -0.087      -0.058\n",
      "idlnchld                   0.0760      0.011      6.923      0.000       0.054       0.098\n",
      "knowmeth                   0.5564      0.121      4.580      0.000       0.318       0.795\n",
      "usemeth                    0.6473      0.048     13.424      0.000       0.553       0.742\n",
      "agefm                     -0.0604      0.007     -9.213      0.000      -0.073      -0.048\n",
      "heduc                     -0.0551      0.008     -6.838      0.000      -0.071      -0.039\n",
      "urban                     -0.2137      0.047     -4.527      0.000      -0.306      -0.121\n",
      "electric                  -0.2685      0.077     -3.479      0.001      -0.420      -0.117\n",
      "radio                     -0.0235      0.051     -0.461      0.645      -0.123       0.076\n",
      "tv                        -0.1451      0.093     -1.566      0.118      -0.327       0.037\n",
      "bicycle                    0.2139      0.050      4.260      0.000       0.115       0.312\n",
      "nevermarr                 -2.2393      0.148    -15.143      0.000      -2.529      -1.949\n",
      "idlnchld_nans              0.6539      0.153      4.286      0.000       0.355       0.953\n",
      "heduc_nans                -0.8724      0.145     -6.026      0.000      -1.156      -0.589\n",
      "usemeth_nans               0.7652      0.196      3.910      0.000       0.382       1.149\n",
      "==============================================================================\n",
      "Omnibus:                      224.411   Durbin-Watson:                   1.887\n",
      "Prob(Omnibus):                  0.000   Jarque-Bera (JB):              859.014\n",
      "Skew:                           0.003   Prob(JB):                    2.93e-187\n",
      "Kurtosis:                       5.178   Cond. No.                         361.\n",
      "==============================================================================\n",
      "\n",
      "Warnings:\n",
      "[1] Standard Errors assume that the covariance matrix of the errors is correctly specified.\n"
     ]
    }
   ],
   "source": [
    "regression = smf.ols(formula, data=df)\n",
    "\n",
    "print(regression.fit().summary())"
   ]
  },
  {
   "cell_type": "markdown",
   "metadata": {},
   "source": [
    "Проверьте критерием Бройша-Пагана гомоскедастичность ошибки в построенной модели. Выполняется ли она?\n",
    "\n",
    "Если ошибка гетероскедастична, перенастройте модель, сделав поправку Уайта типа HC1."
   ]
  },
  {
   "cell_type": "code",
   "execution_count": 155,
   "metadata": {
    "ExecuteTime": {
     "end_time": "2019-09-30T20:50:20.722684Z",
     "start_time": "2019-09-30T20:50:20.703648Z"
    }
   },
   "outputs": [
    {
     "name": "stdout",
     "output_type": "stream",
     "text": [
      "критерий Бройша-Пагана: 0.000000\n"
     ]
    }
   ],
   "source": [
    "print('критерий Бройша-Пагана: %f'%api.het_breuschpagan(regression.fit().resid, regression.fit().model.exog)[1])"
   ]
  },
  {
   "cell_type": "code",
   "execution_count": 156,
   "metadata": {
    "ExecuteTime": {
     "end_time": "2019-09-30T20:50:21.548214Z",
     "start_time": "2019-09-30T20:50:21.432041Z"
    }
   },
   "outputs": [
    {
     "name": "stdout",
     "output_type": "stream",
     "text": [
      "                            OLS Regression Results                            \n",
      "==============================================================================\n",
      "Dep. Variable:                    ceb   R-squared:                       0.644\n",
      "Model:                            OLS   Adj. R-squared:                  0.643\n",
      "Method:                 Least Squares   F-statistic:                     345.0\n",
      "Date:                Mon, 30 Sep 2019   Prob (F-statistic):               0.00\n",
      "Time:                        23:50:21   Log-Likelihood:                -7732.1\n",
      "No. Observations:                4348   AIC:                         1.550e+04\n",
      "Df Residuals:                    4328   BIC:                         1.563e+04\n",
      "Df Model:                          19                                         \n",
      "Covariance Type:                  HC1                                         \n",
      "==========================================================================================\n",
      "                             coef    std err          z      P>|z|      [0.025      0.975]\n",
      "------------------------------------------------------------------------------------------\n",
      "Intercept                 -1.0263      0.266     -3.863      0.000      -1.547      -0.506\n",
      "religion[T.other]         -0.0830      0.078     -1.067      0.286      -0.235       0.069\n",
      "religion[T.protestant]    -0.0149      0.078     -0.192      0.848      -0.167       0.137\n",
      "religion[T.spirit]        -0.0191      0.071     -0.268      0.789      -0.159       0.121\n",
      "age                        0.1703      0.004     38.627      0.000       0.162       0.179\n",
      "educ                      -0.0724      0.007     -9.924      0.000      -0.087      -0.058\n",
      "idlnchld                   0.0760      0.015      5.236      0.000       0.048       0.104\n",
      "knowmeth                   0.5564      0.174      3.190      0.001       0.215       0.898\n",
      "usemeth                    0.6473      0.052     12.478      0.000       0.546       0.749\n",
      "agefm                     -0.0604      0.010     -6.174      0.000      -0.080      -0.041\n",
      "heduc                     -0.0551      0.009     -6.126      0.000      -0.073      -0.037\n",
      "urban                     -0.2137      0.046     -4.667      0.000      -0.303      -0.124\n",
      "electric                  -0.2685      0.072     -3.732      0.000      -0.410      -0.128\n",
      "radio                     -0.0235      0.053     -0.446      0.656      -0.127       0.080\n",
      "tv                        -0.1451      0.082     -1.766      0.077      -0.306       0.016\n",
      "bicycle                    0.2139      0.048      4.412      0.000       0.119       0.309\n",
      "nevermarr                 -2.2393      0.202    -11.082      0.000      -2.635      -1.843\n",
      "idlnchld_nans              0.6539      0.216      3.029      0.002       0.231       1.077\n",
      "heduc_nans                -0.8724      0.191     -4.556      0.000      -1.248      -0.497\n",
      "usemeth_nans               0.7652      0.213      3.590      0.000       0.347       1.183\n",
      "==============================================================================\n",
      "Omnibus:                      224.411   Durbin-Watson:                   1.887\n",
      "Prob(Omnibus):                  0.000   Jarque-Bera (JB):              859.014\n",
      "Skew:                           0.003   Prob(JB):                    2.93e-187\n",
      "Kurtosis:                       5.178   Cond. No.                         361.\n",
      "==============================================================================\n",
      "\n",
      "Warnings:\n",
      "[1] Standard Errors are heteroscedasticity robust (HC1)\n"
     ]
    }
   ],
   "source": [
    "regression_fixed = smf.ols(formula, data=df)\n",
    "\n",
    "print(regression_fixed.fit(cov_type='HC1').summary())"
   ]
  },
  {
   "cell_type": "markdown",
   "metadata": {},
   "source": [
    "Удалите из модели незначимые признаки religion, radio и tv. Проверьте гомоскедастичность ошибки, при необходимости сделайте поправку Уайта.\n",
    "\n",
    "Не произошло ли значимого ухудшения модели после удаления этой группы признаков? Проверьте с помощью критерия Фишера. Чему равен его достигаемый уровень значимости? Округлите до четырёх цифр после десятичной точки.\n",
    "\n",
    "Если достигаемый уровень значимости получился маленький, верните все удалённые признаки; если он достаточно велик, оставьте модель без религии, тв и радио."
   ]
  },
  {
   "cell_type": "code",
   "execution_count": 158,
   "metadata": {
    "ExecuteTime": {
     "end_time": "2019-09-30T20:50:42.039708Z",
     "start_time": "2019-09-30T20:50:42.029624Z"
    }
   },
   "outputs": [],
   "source": [
    "df_ = df.drop(columns = ['religion', 'radio', 'tv'], axis = 1)"
   ]
  },
  {
   "cell_type": "code",
   "execution_count": 164,
   "metadata": {
    "ExecuteTime": {
     "end_time": "2019-09-30T20:56:12.670001Z",
     "start_time": "2019-09-30T20:56:12.548765Z"
    }
   },
   "outputs": [
    {
     "name": "stdout",
     "output_type": "stream",
     "text": [
      "критерий Бройша-Пагана: 0.000000\n"
     ]
    }
   ],
   "source": [
    "formula_ = 'ceb~'+'+'.join(df_.columns[1:])\n",
    "regression = smf.ols(formula_, data=df_)\n",
    "regr_f = regression.fit()\n",
    "print('критерий Бройша-Пагана: %f'%api.het_breuschpagan(regr_f.resid, regr_f.model.exog)[1])"
   ]
  },
  {
   "cell_type": "code",
   "execution_count": 165,
   "metadata": {
    "ExecuteTime": {
     "end_time": "2019-09-30T20:56:14.842868Z",
     "start_time": "2019-09-30T20:56:14.761745Z"
    }
   },
   "outputs": [
    {
     "name": "stdout",
     "output_type": "stream",
     "text": [
      "                            OLS Regression Results                            \n",
      "==============================================================================\n",
      "Dep. Variable:                    ceb   R-squared:                       0.644\n",
      "Model:                            OLS   Adj. R-squared:                  0.643\n",
      "Method:                 Least Squares   F-statistic:                     463.4\n",
      "Date:                Mon, 30 Sep 2019   Prob (F-statistic):               0.00\n",
      "Time:                        23:56:14   Log-Likelihood:                -7734.5\n",
      "No. Observations:                4348   AIC:                         1.550e+04\n",
      "Df Residuals:                    4333   BIC:                         1.559e+04\n",
      "Df Model:                          14                                         \n",
      "Covariance Type:                  HC1                                         \n",
      "=================================================================================\n",
      "                    coef    std err          z      P>|z|      [0.025      0.975]\n",
      "---------------------------------------------------------------------------------\n",
      "Intercept        -1.0698      0.258     -4.152      0.000      -1.575      -0.565\n",
      "age               0.1702      0.004     38.746      0.000       0.162       0.179\n",
      "educ             -0.0729      0.007    -10.311      0.000      -0.087      -0.059\n",
      "idlnchld          0.0770      0.014      5.323      0.000       0.049       0.105\n",
      "knowmeth          0.5610      0.174      3.224      0.001       0.220       0.902\n",
      "usemeth           0.6516      0.052     12.571      0.000       0.550       0.753\n",
      "agefm            -0.0606      0.010     -6.192      0.000      -0.080      -0.041\n",
      "heduc            -0.0573      0.009     -6.440      0.000      -0.075      -0.040\n",
      "urban            -0.2190      0.045     -4.814      0.000      -0.308      -0.130\n",
      "electric         -0.3207      0.063     -5.076      0.000      -0.445      -0.197\n",
      "bicycle           0.2046      0.048      4.279      0.000       0.111       0.298\n",
      "nevermarr        -2.2501      0.202    -11.158      0.000      -2.645      -1.855\n",
      "idlnchld_nans     0.6565      0.216      3.043      0.002       0.234       1.079\n",
      "heduc_nans       -0.8853      0.191     -4.638      0.000      -1.259      -0.511\n",
      "usemeth_nans      0.7732      0.212      3.639      0.000       0.357       1.190\n",
      "==============================================================================\n",
      "Omnibus:                      224.096   Durbin-Watson:                   1.886\n",
      "Prob(Omnibus):                  0.000   Jarque-Bera (JB):              856.760\n",
      "Skew:                           0.004   Prob(JB):                    9.06e-187\n",
      "Kurtosis:                       5.175   Cond. No.                         345.\n",
      "==============================================================================\n",
      "\n",
      "Warnings:\n",
      "[1] Standard Errors are heteroscedasticity robust (HC1)\n"
     ]
    }
   ],
   "source": [
    "regressionnn = smf.ols(formula_, data=df_)\n",
    "modell = regressionnn.fit(cov_type='HC1')\n",
    "print(modell.summary())"
   ]
  },
  {
   "cell_type": "code",
   "execution_count": 170,
   "metadata": {
    "ExecuteTime": {
     "end_time": "2019-09-30T20:58:28.048945Z",
     "start_time": "2019-09-30T20:58:28.024062Z"
    }
   },
   "outputs": [
    {
     "name": "stdout",
     "output_type": "stream",
     "text": [
      "(nan, nan, 0.0)\n"
     ]
    },
    {
     "name": "stderr",
     "output_type": "stream",
     "text": [
      "/home/danone/anaconda3/lib/python3.6/site-packages/statsmodels/regression/linear_model.py:2026: RuntimeWarning: invalid value encountered in double_scalars\n",
      "  f_value = (ssr_restr - ssr_full) / df_diff / ssr_full * df_full\n"
     ]
    }
   ],
   "source": [
    "print(regression.fit().compare_f_test(regressionnn.fit()))"
   ]
  },
  {
   "cell_type": "markdown",
   "metadata": {},
   "source": [
    "Признак usemeth_noans значим по критерию Стьюдента, то есть, при его удалении модель значимо ухудшится. Но вообще-то отдельно его удалять нельзя: из-за того, что мы перекодировали пропуски в usemeth произвольно выбранным значением $c_{usemeth }=-1$, удалять usemeth_noans и usemeth можно только вместе.\n",
    "\n",
    "Удалите из текущей модели usemeth_noans и usemeth. Проверьте критерием Фишера гипотезу о том, что качество модели не ухудшилось. Введите номер первой значащей цифры в достигаемом уровне значимости (например, если вы получили $5.5\\times10^{-8}$,нужно ввести 8).\n",
    "\n",
    "Если достигаемый уровень значимости получился маленький, верните удалённые признаки; если он достаточно велик, оставьте модель без usemeth и usemeth_noans."
   ]
  },
  {
   "cell_type": "code",
   "execution_count": 173,
   "metadata": {
    "ExecuteTime": {
     "end_time": "2019-09-30T21:04:17.306274Z",
     "start_time": "2019-09-30T21:04:17.296490Z"
    }
   },
   "outputs": [
    {
     "data": {
      "text/plain": [
       "'ceb~age+educ+religion+idlnchld+knowmeth+agefm+heduc+urban+electric+radio+tv+bicycle+nevermarr+idlnchld_nans+heduc_nans'"
      ]
     },
     "execution_count": 173,
     "metadata": {},
     "output_type": "execute_result"
    }
   ],
   "source": [
    "formulla = 'ceb~'+'age+educ+religion+idlnchld+knowmeth+agefm+heduc+urban+electric+radio+tv+bicycle+nevermarr+idlnchld_nans+heduc_nans'\n",
    "formulla"
   ]
  },
  {
   "cell_type": "code",
   "execution_count": 174,
   "metadata": {
    "ExecuteTime": {
     "end_time": "2019-09-30T21:04:54.244555Z",
     "start_time": "2019-09-30T21:04:54.147096Z"
    }
   },
   "outputs": [
    {
     "name": "stdout",
     "output_type": "stream",
     "text": [
      "                            OLS Regression Results                            \n",
      "==============================================================================\n",
      "Dep. Variable:                    ceb   R-squared:                       0.629\n",
      "Model:                            OLS   Adj. R-squared:                  0.628\n",
      "Method:                 Least Squares   F-statistic:                     432.2\n",
      "Date:                Tue, 01 Oct 2019   Prob (F-statistic):               0.00\n",
      "Time:                        00:04:54   Log-Likelihood:                -7822.1\n",
      "No. Observations:                4348   AIC:                         1.568e+04\n",
      "Df Residuals:                    4330   BIC:                         1.579e+04\n",
      "Df Model:                          17                                         \n",
      "Covariance Type:            nonrobust                                         \n",
      "==========================================================================================\n",
      "                             coef    std err          t      P>|t|      [0.025      0.975]\n",
      "------------------------------------------------------------------------------------------\n",
      "Intercept                 -1.1314      0.217     -5.225      0.000      -1.556      -0.707\n",
      "religion[T.other]         -0.1205      0.085     -1.426      0.154      -0.286       0.045\n",
      "religion[T.protestant]    -0.0312      0.084     -0.372      0.710      -0.196       0.133\n",
      "religion[T.spirit]        -0.0387      0.079     -0.490      0.624      -0.193       0.116\n",
      "age                        0.1776      0.003     53.935      0.000       0.171       0.184\n",
      "educ                      -0.0563      0.007     -7.603      0.000      -0.071      -0.042\n",
      "idlnchld                   0.0693      0.011      6.191      0.000       0.047       0.091\n",
      "knowmeth                   0.8622      0.122      7.089      0.000       0.624       1.101\n",
      "agefm                     -0.0646      0.007     -9.672      0.000      -0.078      -0.052\n",
      "heduc                     -0.0496      0.008     -6.032      0.000      -0.066      -0.033\n",
      "urban                     -0.1830      0.048     -3.807      0.000      -0.277      -0.089\n",
      "electric                  -0.2540      0.079     -3.225      0.001      -0.408      -0.100\n",
      "radio                     -0.0021      0.052     -0.040      0.968      -0.104       0.100\n",
      "tv                        -0.1895      0.095     -2.004      0.045      -0.375      -0.004\n",
      "bicycle                    0.2049      0.051      4.000      0.000       0.104       0.305\n",
      "nevermarr                 -2.3476      0.151    -15.597      0.000      -2.643      -2.052\n",
      "idlnchld_nans              0.5265      0.155      3.387      0.001       0.222       0.831\n",
      "heduc_nans                -0.7796      0.148     -5.282      0.000      -1.069      -0.490\n",
      "==============================================================================\n",
      "Omnibus:                      251.332   Durbin-Watson:                   1.911\n",
      "Prob(Omnibus):                  0.000   Jarque-Bera (JB):              940.025\n",
      "Skew:                          -0.159   Prob(JB):                    7.52e-205\n",
      "Kurtosis:                       5.255   Cond. No.                         360.\n",
      "==============================================================================\n",
      "\n",
      "Warnings:\n",
      "[1] Standard Errors assume that the covariance matrix of the errors is correctly specified.\n"
     ]
    }
   ],
   "source": [
    "regul = smf.ols(formulla, data=df)\n",
    "modeL = regul.fit()\n",
    "print(modeL.summary())"
   ]
  },
  {
   "cell_type": "code",
   "execution_count": 175,
   "metadata": {
    "ExecuteTime": {
     "end_time": "2019-09-30T21:05:20.792391Z",
     "start_time": "2019-09-30T21:05:20.764797Z"
    }
   },
   "outputs": [
    {
     "name": "stdout",
     "output_type": "stream",
     "text": [
      "F=-59.384822, p=nan, k1=-3.000000\n"
     ]
    }
   ],
   "source": [
    "print('F=%f, p=%.40f, k1=%f' % regressionnn.fit().compare_f_test(regul.fit()))"
   ]
  },
  {
   "cell_type": "code",
   "execution_count": 177,
   "metadata": {
    "ExecuteTime": {
     "end_time": "2019-09-30T21:07:09.058308Z",
     "start_time": "2019-09-30T21:07:09.044067Z"
    }
   },
   "outputs": [
    {
     "name": "stdout",
     "output_type": "stream",
     "text": [
      "                            OLS Regression Results                            \n",
      "==============================================================================\n",
      "Dep. Variable:                    ceb   R-squared:                       0.644\n",
      "Model:                            OLS   Adj. R-squared:                  0.643\n",
      "Method:                 Least Squares   F-statistic:                     463.4\n",
      "Date:                Tue, 01 Oct 2019   Prob (F-statistic):               0.00\n",
      "Time:                        00:07:09   Log-Likelihood:                -7734.5\n",
      "No. Observations:                4348   AIC:                         1.550e+04\n",
      "Df Residuals:                    4333   BIC:                         1.559e+04\n",
      "Df Model:                          14                                         \n",
      "Covariance Type:                  HC1                                         \n",
      "=================================================================================\n",
      "                    coef    std err          z      P>|z|      [0.025      0.975]\n",
      "---------------------------------------------------------------------------------\n",
      "Intercept        -1.0698      0.258     -4.152      0.000      -1.575      -0.565\n",
      "age               0.1702      0.004     38.746      0.000       0.162       0.179\n",
      "educ             -0.0729      0.007    -10.311      0.000      -0.087      -0.059\n",
      "idlnchld          0.0770      0.014      5.323      0.000       0.049       0.105\n",
      "knowmeth          0.5610      0.174      3.224      0.001       0.220       0.902\n",
      "usemeth           0.6516      0.052     12.571      0.000       0.550       0.753\n",
      "agefm            -0.0606      0.010     -6.192      0.000      -0.080      -0.041\n",
      "heduc            -0.0573      0.009     -6.440      0.000      -0.075      -0.040\n",
      "urban            -0.2190      0.045     -4.814      0.000      -0.308      -0.130\n",
      "electric         -0.3207      0.063     -5.076      0.000      -0.445      -0.197\n",
      "bicycle           0.2046      0.048      4.279      0.000       0.111       0.298\n",
      "nevermarr        -2.2501      0.202    -11.158      0.000      -2.645      -1.855\n",
      "idlnchld_nans     0.6565      0.216      3.043      0.002       0.234       1.079\n",
      "heduc_nans       -0.8853      0.191     -4.638      0.000      -1.259      -0.511\n",
      "usemeth_nans      0.7732      0.212      3.639      0.000       0.357       1.190\n",
      "==============================================================================\n",
      "Omnibus:                      224.096   Durbin-Watson:                   1.886\n",
      "Prob(Omnibus):                  0.000   Jarque-Bera (JB):              856.760\n",
      "Skew:                           0.004   Prob(JB):                    9.06e-187\n",
      "Kurtosis:                       5.175   Cond. No.                         345.\n",
      "==============================================================================\n",
      "\n",
      "Warnings:\n",
      "[1] Standard Errors are heteroscedasticity robust (HC1)\n"
     ]
    }
   ],
   "source": [
    "print(modell.summary())"
   ]
  },
  {
   "cell_type": "code",
   "execution_count": null,
   "metadata": {},
   "outputs": [],
   "source": []
  }
 ],
 "metadata": {
  "kernelspec": {
   "display_name": "Python 3",
   "language": "python",
   "name": "python3"
  },
  "language_info": {
   "codemirror_mode": {
    "name": "ipython",
    "version": 3
   },
   "file_extension": ".py",
   "mimetype": "text/x-python",
   "name": "python",
   "nbconvert_exporter": "python",
   "pygments_lexer": "ipython3",
   "version": "3.6.9"
  },
  "varInspector": {
   "cols": {
    "lenName": 16,
    "lenType": 16,
    "lenVar": 40
   },
   "kernels_config": {
    "python": {
     "delete_cmd_postfix": "",
     "delete_cmd_prefix": "del ",
     "library": "var_list.py",
     "varRefreshCmd": "print(var_dic_list())"
    },
    "r": {
     "delete_cmd_postfix": ") ",
     "delete_cmd_prefix": "rm(",
     "library": "var_list.r",
     "varRefreshCmd": "cat(var_dic_list()) "
    }
   },
   "types_to_exclude": [
    "module",
    "function",
    "builtin_function_or_method",
    "instance",
    "_Feature"
   ],
   "window_display": false
  }
 },
 "nbformat": 4,
 "nbformat_minor": 2
}
